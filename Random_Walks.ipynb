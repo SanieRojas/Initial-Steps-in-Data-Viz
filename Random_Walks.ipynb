{
  "nbformat": 4,
  "nbformat_minor": 0,
  "metadata": {
    "kernelspec": {
      "name": "python3",
      "display_name": "Python 3.6",
      "language": "python"
    },
    "language_info": {
      "name": "python",
      "version": "3.6.9",
      "mimetype": "text/x-python",
      "codemirror_mode": {
        "name": "ipython",
        "version": 3
      },
      "pygments_lexer": "ipython3",
      "nbconvert_exporter": "python",
      "file_extension": ".py"
    },
    "colab": {
      "name": "Random Walks.ipynb",
      "provenance": [],
      "include_colab_link": true
    }
  },
  "cells": [
    {
      "cell_type": "markdown",
      "metadata": {
        "id": "view-in-github",
        "colab_type": "text"
      },
      "source": [
        "<a href=\"https://colab.research.google.com/github/SanieRojas/Initial-Steps-in-Data-Viz/blob/master/Random_Walks.ipynb\" target=\"_parent\"><img src=\"https://colab.research.google.com/assets/colab-badge.svg\" alt=\"Open In Colab\"/></a>"
      ]
    },
    {
      "cell_type": "markdown",
      "metadata": {
        "collapsed": true,
        "id": "zf6IJL90-aIj",
        "colab_type": "text"
      },
      "source": [
        "# How to generate random walks in python using numpy? "
      ]
    },
    {
      "cell_type": "markdown",
      "metadata": {
        "id": "UUUJYlkn-aIk",
        "colab_type": "text"
      },
      "source": [
        "For today´s challenge we´re going to create a simple random walk in python using numpy library, and we´re going to explore results that we obtain through the law of large numbers."
      ]
    },
    {
      "cell_type": "markdown",
      "metadata": {
        "id": "fRyEBl5G-aIl",
        "colab_type": "text"
      },
      "source": [
        "We have all seen the famous interview [question](https://towardsdatascience.com/over-100-data-scientist-interview-questions-and-answers-c5a66186769a \"100 Interview Questions Addressed\"): \n",
        "\n",
        "### Q: You are at a Casino and have two dices to play with. You win $10 every time you roll a 5. If you play till you win and then stop, what is the expected payout?\n",
        "\n",
        "\n",
        "Let’s assume that it costs $5 every time you want to play.\n",
        "There are 36 possible combinations with two dice.\n",
        "Of the 36 combinations, there are 4 combinations that result in rolling a five (see blue). This means that there is a 4/36 or 1/9 chance of rolling a 5.\n",
        "A 1/9 chance of winning means you’ll lose eight times and win once (theoretically).  \n",
        "\n",
        "\n",
        "\n",
        "\n",
        "Therefore, your expected payout is equal to $10.00 * 1 -$5.00 * 9= -$35.00.\n",
        "\n",
        "\n",
        "\n",
        "***"
      ]
    },
    {
      "cell_type": "markdown",
      "metadata": {
        "id": "YQxMfdV_CReY",
        "colab_type": "text"
      },
      "source": [
        "![Dice Alternatives](https://miro.medium.com/max/1400/1*d4QXfhHpJkWBNhEclHxGaw.png)\n",
        "\n",
        "\n"
      ]
    },
    {
      "cell_type": "markdown",
      "metadata": {
        "id": "NfB_iFSl-aIm",
        "colab_type": "text"
      },
      "source": [
        "Interesting. But what if we could test this if this is directionally correct, by replicating randomly, say 5000 dices rolled to see how many of these games end up close to the -35$ mark? Would it give us the 11.11% chance we´re seeing here? Let´s check. \n",
        "\n",
        "We´re about to apply the random walk technique to test that out, meaning we will randomly replicate the results of each of the dice rollings. Then we will repeat the process a large amount of times. \n",
        "\n",
        "\n",
        "But what is a random walk? Let´s look at what wikipedia says. \n",
        "\n"
      ]
    },
    {
      "cell_type": "markdown",
      "metadata": {
        "id": "VlsAPMei-aIn",
        "colab_type": "text"
      },
      "source": [
        ">A random walk is a mathematical object, known as a stochastic or random process, that describes a path that consists of a succession of random steps on some mathematical space such as the integers. An elementary example of a random walk is the random walk on the integer number line, which starts at 0 and at each step moves +1 or −1 with equal probability. Random walks have applications to engineering and many scientific fields including ecology, psychology, computer science, physics, chemistry, biology as well as economics. The term random walk was first introduced by Karl Pearson in 1905. - Wikipedia definition\n"
      ]
    },
    {
      "cell_type": "markdown",
      "metadata": {
        "id": "DHnfPVZl-aIn",
        "colab_type": "text"
      },
      "source": [
        "Cool, right? For more detailed information on how random walks work, check this MIT learning resource in this link >\n",
        "[Random Walks](https://www.mit.edu/~kardar/teaching/projects/chemotaxis(AndreaSchmidt)/random.htm)"
      ]
    },
    {
      "cell_type": "markdown",
      "metadata": {
        "id": "rcpwF6yZ-aIp",
        "colab_type": "text"
      },
      "source": [
        "And what is a montecarlo simulation? "
      ]
    },
    {
      "cell_type": "markdown",
      "metadata": {
        "id": "jGMPtoak-aIp",
        "colab_type": "text"
      },
      "source": [
        ">Monte Carlo methods, or Monte Carlo experiments, are a broad class of computational algorithms that rely on repeated random sampling to obtain numerical results. The underlying concept is to use randomness to solve problems that might be deterministic in principle. They are often used in physical and mathematical problems and are most useful when it is difficult or impossible to use other approaches.   \n",
        "Monte Carlo methods are mainly used in three problem classes: optimization, numerical integration, and generating draws from a probability distribution."
      ]
    },
    {
      "cell_type": "markdown",
      "metadata": {
        "id": "24Zdiwhw_Ecw",
        "colab_type": "text"
      },
      "source": [
        "So, if we take multiple samples – say the first sample of 10 rolls and compute of the mean for that sample, and then again, we take a next sample of say 20 rolls and do the same. We repeat the process by getting a large number of random samples which are independent of each other – then the ‘mean of the means’ of these samples will give the approximate mean of the whole population as per the central limit theorem. Also, the histogram of the means will represent the bell curve as per the central limit theorem. \n",
        "\n"
      ]
    },
    {
      "cell_type": "markdown",
      "metadata": {
        "id": "6GV1n3O3-aIq",
        "colab_type": "text"
      },
      "source": [
        "## The rand function\n",
        "So, how can we recreate a random walk using Numpy in Python? We will use the `np.random.rand()` function to generate random numbers in order to obtain random numbers first.\n",
        "It is possible to insert two parameters to define the range in which the randoms number are going to be generated. The default range is between 0 and 1, making it very useful for random probability simulations. "
      ]
    },
    {
      "cell_type": "code",
      "metadata": {
        "id": "75tzwiV6-aIr",
        "colab_type": "code",
        "colab": {
          "base_uri": "https://localhost:8080/",
          "height": 35
        },
        "outputId": "206e924c-f48c-400b-da1a-b4d1156560ad"
      },
      "source": [
        "import numpy as np\n",
        "import pandas as pd \n",
        "from pandas.plotting import bootstrap_plot\n",
        "\n",
        "np.random.rand()"
      ],
      "execution_count": 16,
      "outputs": [
        {
          "output_type": "execute_result",
          "data": {
            "text/plain": [
              "0.11690024150890721"
            ]
          },
          "metadata": {
            "tags": []
          },
          "execution_count": 16
        }
      ]
    },
    {
      "cell_type": "markdown",
      "metadata": {
        "id": "6w01ffkN-aIw",
        "colab_type": "text"
      },
      "source": [
        "## The seed.  \n",
        "A very cool feature is that, you can make the numbers you´re using in your simulation random, but also traceable with this amazing function called `np.random.seed()`.  \n",
        "Adding an integer as parameter for this function will unleash a specific set of traceable random numbers for other people to replicate easily your models and be able to obtain the same results. That´s why they are called pseudo-random numbers. "
      ]
    },
    {
      "cell_type": "code",
      "metadata": {
        "id": "AMKCi_ps-aIw",
        "colab_type": "code",
        "colab": {
          "base_uri": "https://localhost:8080/",
          "height": 124
        },
        "outputId": "89435ceb-3bcd-44a2-d57a-56163fa6507c"
      },
      "source": [
        "np.random.seed(123) \n",
        "print(\"Seed 123 gives us: \" + str(np.random.randint(0,100)) + \" as first result\") \n",
        "print(\"Seed 123 gives us: \" + str(np.random.randint(0,100)) + \" as second result\") \n",
        "\n",
        "np.random.seed(1234)\n",
        "print(\"Seed 1234 gives us: \" + str(np.random.randint(0,100)) + \" as first result\") \n",
        "print(\"Seed 1234 gives us: \" + str(np.random.randint(0,100)) + \" as second result\") \n",
        "\n",
        "np.random.seed(123)\n",
        "print(\"Seed 123 gives us: \" + str(np.random.randint(0,100)) + \" as first result again\") \n",
        "print(\"Seed 123 gives us: \" + str(np.random.randint(0,100)) + \" as second result again, ensuring reproducibility of your tests\") "
      ],
      "execution_count": 17,
      "outputs": [
        {
          "output_type": "stream",
          "text": [
            "Seed 123 gives us: 66 as first result\n",
            "Seed 123 gives us: 92 as second result\n",
            "Seed 1234 gives us: 47 as first result\n",
            "Seed 1234 gives us: 83 as second result\n",
            "Seed 123 gives us: 66 as first result again\n",
            "Seed 123 gives us: 92 as second result again, ensuring reproducibility of your tests\n"
          ],
          "name": "stdout"
        }
      ]
    },
    {
      "cell_type": "markdown",
      "metadata": {
        "id": "CpWIHwh4-aI0",
        "colab_type": "text"
      },
      "source": [
        "## The case for the casino\n",
        "Are you sure you want to bet on the -35$ result? \n",
        "Let´s see what the montecarlo simulation has for us. "
      ]
    },
    {
      "cell_type": "code",
      "metadata": {
        "id": "xTXPob13-aI1",
        "colab_type": "code",
        "colab": {
          "base_uri": "https://localhost:8080/",
          "height": 52
        },
        "outputId": "93a3e67c-c174-4e27-a65c-666ff1c3c089"
      },
      "source": [
        "#Setting up the seed for the excercise \n",
        "np.random.seed(123)\n",
        "\n",
        "#Creating a list to be populated with the amount of fives obtained in 5000 rolls. \n",
        "fives = []\n",
        "\n",
        "#Loop to roll the dices 5000 times and append a \"1\" for each time a 5 is obtained. \n",
        "for x in range (0,5000):\n",
        "    one_roll = np.random.randint(1,7) + np.random.randint(1,7)\n",
        "    if one_roll == 5: \n",
        "          fives.append(1)\n",
        "\n",
        "#Calculates lenght of the list created and subsequent probability             \n",
        "print(len(fives)) \n",
        "print(\"According to this random simulation of 5000 dice rollings, probability to obtain a five is of \" + str(len(fives)/5000*100) + \"%.\" )"
      ],
      "execution_count": 18,
      "outputs": [
        {
          "output_type": "stream",
          "text": [
            "566\n",
            "According to this random simulation of 5000 dice rollings, probability to obtain a five is of 11.32%.\n"
          ],
          "name": "stdout"
        }
      ]
    },
    {
      "cell_type": "markdown",
      "metadata": {
        "id": "5rjcNera-aI4",
        "colab_type": "text"
      },
      "source": [
        "That is just sligthly better than the result obtained through Success/Posible cases formula. Let´s see what happens when we replicate this process a thousand times. "
      ]
    },
    {
      "cell_type": "code",
      "metadata": {
        "id": "J8HvVd6l-aI5",
        "colab_type": "code",
        "colab": {
          "base_uri": "https://localhost:8080/",
          "height": 35
        },
        "outputId": "312c8203-0d2e-4904-ce72-2880dd7b79c0"
      },
      "source": [
        "#Setting a variable for the seed generation \n",
        "seedgen=1  \n",
        "\n",
        "#Applying the seed function with our variable as a parameter\n",
        "np.random.seed(seedgen)\n",
        "\n",
        "#Creating the lists to be populated by the for loops. \n",
        "fives = []\n",
        "thousand_scenarios = []\n",
        "\n",
        "\n",
        "# Loop to replicate a thousand times rolling the dices five thousand times and appending probabilities to obtain 5 to the thousand_scenarios list. \n",
        "for y in range (0,1000):\n",
        "    for x in range (0,5000):\n",
        "        \n",
        "        one_roll = np.random.randint(1,7) + np.random.randint(1,7)\n",
        "        if one_roll == 5: \n",
        "              fives.append(1)\n",
        "                \n",
        "        probability = len(fives)/5000*100\n",
        "     \n",
        "    thousand_scenarios.append(probability) \n",
        "    fives = []\n",
        "    seedgen= seedgen+1\n",
        "        \n",
        "print(len(thousand_scenarios))"
      ],
      "execution_count": 19,
      "outputs": [
        {
          "output_type": "stream",
          "text": [
            "1000\n"
          ],
          "name": "stdout"
        }
      ]
    },
    {
      "cell_type": "markdown",
      "metadata": {
        "id": "axD4hhvw-aI8",
        "colab_type": "text"
      },
      "source": [
        "So now we have a list called thousand_scenarios with each of the probabilities obtained by the 5000 rolling dices. Let´s see how these look in a histogram"
      ]
    },
    {
      "cell_type": "code",
      "metadata": {
        "id": "DHyK8G10-aI8",
        "colab_type": "code",
        "colab": {
          "base_uri": "https://localhost:8080/",
          "height": 76
        },
        "outputId": "52ba5114-af9c-4ad3-bb34-4856fe9bfb94"
      },
      "source": [
        "#Assigning a lable to the list generated in order to manipulate it more easily\n",
        "df = pd.DataFrame(thousand_scenarios)\n",
        "df.columns=[\"Probability\"]\n",
        "df.head(1)"
      ],
      "execution_count": 20,
      "outputs": [
        {
          "output_type": "execute_result",
          "data": {
            "text/html": [
              "<div>\n",
              "<style scoped>\n",
              "    .dataframe tbody tr th:only-of-type {\n",
              "        vertical-align: middle;\n",
              "    }\n",
              "\n",
              "    .dataframe tbody tr th {\n",
              "        vertical-align: top;\n",
              "    }\n",
              "\n",
              "    .dataframe thead th {\n",
              "        text-align: right;\n",
              "    }\n",
              "</style>\n",
              "<table border=\"1\" class=\"dataframe\">\n",
              "  <thead>\n",
              "    <tr style=\"text-align: right;\">\n",
              "      <th></th>\n",
              "      <th>Probability</th>\n",
              "    </tr>\n",
              "  </thead>\n",
              "  <tbody>\n",
              "    <tr>\n",
              "      <th>0</th>\n",
              "      <td>11.04</td>\n",
              "    </tr>\n",
              "  </tbody>\n",
              "</table>\n",
              "</div>"
            ],
            "text/plain": [
              "   Probability\n",
              "0        11.04"
            ]
          },
          "metadata": {
            "tags": []
          },
          "execution_count": 20
        }
      ]
    },
    {
      "cell_type": "code",
      "metadata": {
        "id": "wO-9LVER-aI_",
        "colab_type": "code",
        "colab": {
          "base_uri": "https://localhost:8080/",
          "height": 283
        },
        "outputId": "4d76ada9-8735-405c-97d0-ee16adb2723d"
      },
      "source": [
        "df.plot.hist(bins=10, cmap=\"plasma\")"
      ],
      "execution_count": 21,
      "outputs": [
        {
          "output_type": "execute_result",
          "data": {
            "text/plain": [
              "<matplotlib.axes._subplots.AxesSubplot at 0x7fb7f3b5a358>"
            ]
          },
          "metadata": {
            "tags": []
          },
          "execution_count": 21
        },
        {
          "output_type": "display_data",
          "data": {
            "image/png": "[encoded data removed]",
            "text/plain": [
              "<Figure size 432x288 with 1 Axes>"
            ]
          },
          "metadata": {
            "tags": [],
            "needs_background": "light"
          }
        }
      ]
    },
    {
      "cell_type": "markdown",
      "metadata": {
        "id": "sdGMluK--aJC",
        "colab_type": "text"
      },
      "source": [
        "Yeah, we get it, we have just repeated indefinitely to rolling dice process in ourder to fullfill our mathematical curiosity. And since we´re here already, how about doing it one more time, and subset several groups of our series to test the bootstrap plot function from pandas. "
      ]
    },
    {
      "cell_type": "code",
      "metadata": {
        "id": "Sp9qz8SE-aJD",
        "colab_type": "code",
        "colab": {
          "base_uri": "https://localhost:8080/",
          "height": 547
        },
        "outputId": "88514e5b-7162-416b-d10a-c2baa9945def"
      },
      "source": [
        "bootstrap_plot(df, size=60, samples=500, color='black')"
      ],
      "execution_count": 22,
      "outputs": [
        {
          "output_type": "execute_result",
          "data": {
            "image/png": "[encoded data removed]",
            "text/plain": [
              "<Figure size 432x288 with 6 Axes>"
            ]
          },
          "metadata": {
            "tags": []
          },
          "execution_count": 22
        },
        {
          "output_type": "display_data",
          "data": {
            "image/png": "[encoded data removed]",
            "text/plain": [
              "<Figure size 432x288 with 6 Axes>"
            ]
          },
          "metadata": {
            "tags": [],
            "needs_background": "light"
          }
        }
      ]
    },
    {
      "cell_type": "markdown",
      "metadata": {
        "id": "IHenOaS1-aJF",
        "colab_type": "text"
      },
      "source": [
        "So far so good, we have pretty much replicated the % obtained through the theoretical approach, with a random walk + a montecarlo simulation. \n",
        "Let´s see how this plays out, when it comes to monetary impact. Is it really going to be -35$??.   \n",
        "\n",
        "To find out, we need to perform a few changes in our code lines above. Let´s assume you desire to at least play 10 times, let´s see if replicating the play 5000 times gives us the same result of -35$."
      ]
    },
    {
      "cell_type": "code",
      "metadata": {
        "id": "AhCzfOST-aJG",
        "colab_type": "code",
        "colab": {
          "base_uri": "https://localhost:8080/",
          "height": 141
        },
        "outputId": "85fbdb08-c61e-45a3-b40c-45a4c7b057d5"
      },
      "source": [
        "#Setting a variable for the seed generation \n",
        "seedgen=3  \n",
        "\n",
        "#Applying the seed function with our variable as a parameter\n",
        "np.random.seed(seedgen)\n",
        "\n",
        "#Creating the lists to be populated by the for loops. \n",
        "rolls= []\n",
        "set_rolls = []\n",
        "\n",
        "\n",
        "for x in range (5000):    \n",
        "    for x in range (10):\n",
        "        roll = np.random.randint(1,7) + np.random.randint(1,7)\n",
        "        rolls.append(roll)\n",
        "    set_rolls.append(rolls)\n",
        "    rolls = []\n",
        "\n",
        "np_set_rolls = np.array(set_rolls)\n",
        "\n",
        "np_set_rolls"
      ],
      "execution_count": 31,
      "outputs": [
        {
          "output_type": "execute_result",
          "data": {
            "text/plain": [
              "array([[ 4,  6,  2, ...,  9,  6, 11],\n",
              "       [ 4,  5,  6, ...,  4,  5,  6],\n",
              "       [ 5, 11,  8, ...,  2, 12,  4],\n",
              "       ...,\n",
              "       [ 3,  7, 10, ...,  5,  4,  6],\n",
              "       [ 5,  8,  9, ...,  4,  5,  9],\n",
              "       [ 9,  8, 12, ...,  6,  8,  8]])"
            ]
          },
          "metadata": {
            "tags": []
          },
          "execution_count": 31
        }
      ]
    },
    {
      "cell_type": "code",
      "metadata": {
        "scrolled": true,
        "id": "iCH9Uayz-aJJ",
        "colab_type": "code",
        "colab": {
          "base_uri": "https://localhost:8080/",
          "height": 283
        },
        "outputId": "60214308-d57a-4b38-fefb-a61e3bd4b7f0"
      },
      "source": [
        "#Now let´s convert those into balances using the .where function from numpy\n",
        "np_balances = np.where(np_set_rolls == 5, 10,-5)\n",
        "np_list_balances= []\n",
        "\n",
        "for x in np_balances:\n",
        "    np_list_balances.append(sum(x))\n",
        "\n",
        "#Let´s plot a histogram with the possible economic results of the game\n",
        "pd_list_balances= pd.Series(np_list_balances)\n",
        "pd_list_balances.plot.hist(bins=6, cmap=\"twilight_shifted_r\")"
      ],
      "execution_count": 32,
      "outputs": [
        {
          "output_type": "execute_result",
          "data": {
            "text/plain": [
              "<matplotlib.axes._subplots.AxesSubplot at 0x7fb7f36a70f0>"
            ]
          },
          "metadata": {
            "tags": []
          },
          "execution_count": 32
        },
        {
          "output_type": "display_data",
          "data": {
            "image/png": "[encoded data removed]",
            "text/plain": [
              "<Figure size 432x288 with 1 Axes>"
            ]
          },
          "metadata": {
            "tags": [],
            "needs_background": "light"
          }
        }
      ]
    },
    {
      "cell_type": "markdown",
      "metadata": {
        "id": "J8dJ4OsP-aJM",
        "colab_type": "text"
      },
      "source": [
        "As we can see, the distribution is centered around the -$35. What is the chance of earning money if you play 10 times?\n"
      ]
    },
    {
      "cell_type": "code",
      "metadata": {
        "id": "wtDfaK2Z-aJM",
        "colab_type": "code",
        "colab": {
          "base_uri": "https://localhost:8080/",
          "height": 35
        },
        "outputId": "a6a708c5-82ed-4422-e54d-6e77b7215e7b"
      },
      "source": [
        "probab = len(pd_list_balances[pd_list_balances>0])/1000*100\n",
        "print(\"The probability of earning money is of: \" + str(probab)+ \"%.\")"
      ],
      "execution_count": 35,
      "outputs": [
        {
          "output_type": "stream",
          "text": [
            "The probability of earning money is of: 8.6%.\n"
          ],
          "name": "stdout"
        }
      ]
    },
    {
      "cell_type": "markdown",
      "metadata": {
        "id": "sQfc7rlf-aJP",
        "colab_type": "text"
      },
      "source": [
        "Let´s see if the probability increases or decreases when we decide to only play 5 times. "
      ]
    },
    {
      "cell_type": "code",
      "metadata": {
        "id": "t0VzOG9Q-aJP",
        "colab_type": "code",
        "colab": {
          "base_uri": "https://localhost:8080/",
          "height": 35
        },
        "outputId": "a1781bc6-9d6d-4cef-e210-3dcad1d554a5"
      },
      "source": [
        "#Setting a variable for the seed generation \n",
        "seedgen=3  \n",
        "\n",
        "#Applying the seed function with our variable as a parameter\n",
        "np.random.seed(seedgen)\n",
        "\n",
        "#Creating the lists to be populated by the for loops. \n",
        "rolls= []\n",
        "set_rolls = []\n",
        "\n",
        "\n",
        "for x in range (5000):    \n",
        "    for x in range (5):\n",
        "        roll = np.random.randint(1,7) + np.random.randint(1,7)\n",
        "        rolls.append(roll)\n",
        "    set_rolls.append(rolls)\n",
        "    rolls = []\n",
        "\n",
        "np_set_rolls = np.array(set_rolls)\n",
        "\n",
        "#Now let´s convert those into balances \n",
        "np_balances = np.where(np_set_rolls == 5, 10,-5)\n",
        "np_list_balances= []\n",
        "\n",
        "for x in np_balances:\n",
        "    np_list_balances.append(sum(x))\n",
        "\n",
        "probab = len(pd_list_balances[pd_list_balances>0])/1000*100\n",
        "print(\"The probability of earning money is of: \" + str(probab)+ \"%.\")"
      ],
      "execution_count": 26,
      "outputs": [
        {
          "output_type": "stream",
          "text": [
            "The probability of earning money is of: 8.6%.\n"
          ],
          "name": "stdout"
        }
      ]
    },
    {
      "cell_type": "code",
      "metadata": {
        "id": "pvYej2zO-aJS",
        "colab_type": "code",
        "colab": {
          "base_uri": "https://localhost:8080/",
          "height": 283
        },
        "outputId": "88b70f64-23ee-40f8-a79c-71922bd2093e"
      },
      "source": [
        "#Let´s plot a histogram with the possible economic results of the game\n",
        "pd_list_balances= pd.Series(np_list_balances)\n",
        "pd_list_balances.plot.hist(bins=5, cmap=\"twilight_shifted_r\")"
      ],
      "execution_count": 27,
      "outputs": [
        {
          "output_type": "execute_result",
          "data": {
            "text/plain": [
              "<matplotlib.axes._subplots.AxesSubplot at 0x7fb7f34f2e10>"
            ]
          },
          "metadata": {
            "tags": []
          },
          "execution_count": 27
        },
        {
          "output_type": "display_data",
          "data": {
            "image/png": "[encoded data removed]",
            "text/plain": [
              "<Figure size 432x288 with 1 Axes>"
            ]
          },
          "metadata": {
            "tags": [],
            "needs_background": "light"
          }
        }
      ]
    }
  ]
}